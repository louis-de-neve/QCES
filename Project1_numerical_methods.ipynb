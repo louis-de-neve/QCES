{
  "cells": [
    {
      "cell_type": "markdown",
      "metadata": {
        "id": "Kvi1witj5wON"
      },
      "source": [
        "<a href=\"https://colab.research.google.com/github/johnryantaylor/QCES/blob/main/Project1_numerical_methods.ipynb\" target=\"_parent\"><img src=\"https://colab.research.google.com/assets/colab-badge.svg\" alt=\"Open In Colab\"/></a>"
      ]
    },
    {
      "cell_type": "markdown",
      "metadata": {
        "id": "lMhM6NoD5wOP"
      },
      "source": [
        "# Project 1: Diffusion equation"
      ]
    },
    {
      "cell_type": "markdown",
      "metadata": {
        "id": "_pgh031M5wOP"
      },
      "source": [
        "In this project we will use several methods to solve the diffusion equation:\n",
        "\n",
        "$$ \\partial_t c = \\kappa \\partial_x^2 c $$\n",
        "\n",
        "This project consists of two notebooks. First, in this notebook, we will solve this equation using second order finite differences to approximate the $x$-derivatives, and we will use both the explict Euler and Crank-Nicolson timestepping methods.\n",
        "\n",
        "In the second notebook for this project, we will learn how to use Dedalus to solve the same problem using spectral methods.\n",
        "\n",
        "The objective for this notebook is learn about spatial discretization and to compare the stability, accuracy, and speed of the Explicit euler and Crank-Nicolson methods when applied to the diffusion equation.\n",
        "\n",
        "Student tasks are in [Section 2.1](#section2pt1) and [Section 2.2](#section2pt2)."
      ]
    },
    {
      "cell_type": "markdown",
      "metadata": {
        "id": "D9teOlSC5wOQ"
      },
      "source": [
        "Before we start, load in the required libraries"
      ]
    },
    {
      "cell_type": "code",
      "execution_count": 111,
      "metadata": {
        "id": "bQJdpTTE5wOQ"
      },
      "outputs": [],
      "source": [
        "# Importing necessary libraries\n",
        "import numpy as np\n",
        "import matplotlib.pyplot as plt\n",
        "import scipy.sparse as sp\n",
        "import scipy.sparse.linalg as spla\n",
        "import time"
      ]
    },
    {
      "cell_type": "markdown",
      "metadata": {
        "id": "Tquy_Mqe5wOR"
      },
      "source": [
        "\n",
        "Now, define two functions to timestep the diffusion equation. The code below timesteps the diffusion equation using the expicit Euler method. The function takes in a vector of discrete positions, `x`, discrete times, `t`, and the diffusivity, `kappa`. The vectors `x` and `t` dictate the discretization of the problem in space and time, and the grid spacing must be constant in space and time. The boundary conditions are $\\partial_x c=0$ at the starting and ending points in `x`."
      ]
    },
    {
      "cell_type": "code",
      "execution_count": 112,
      "metadata": {
        "id": "0-9DGnW65wOR"
      },
      "outputs": [],
      "source": [
        "def EE(x, t, kappa):\n",
        "# This function timesteps the diffusion equation with homogeneous Neumann boundary conditions\n",
        "# using the explicit Euler and second order finite difference methods\n",
        "\n",
        "    start_time = time.time()  # Start a timer\n",
        "\n",
        "    # Infer the uniform grid spacing:\n",
        "    dx = (x[-1] - x[0]) / (len(x) - 1); dt = (t[-1] - t[0]) / (len(t) - 1)\n",
        "\n",
        "    # Set the number of gridpoints in x and t\n",
        "    Nx = len(x); Nt = len(t)\n",
        "\n",
        "    # Builds a coefficient matrix, such that M*c is the discrete version of d/dx(c)\n",
        "    M = (np.diag(np.ones(Nx-1), -1) - 2*np.diag(np.ones(Nx), 0) + np.diag(np.ones(Nx-1), 1)) / dx**2\n",
        "\n",
        "    # Turn M into a sparse matrix to save memory and improve speed\n",
        "    M = sp.csr_matrix(M)\n",
        "\n",
        "    # Create an empty sparse array to store the solution\n",
        "    c = np.zeros((Nx, Nt))\n",
        "\n",
        "    c[:, 0] = set_ics(x, kappa, 10)  # Set the initial condition\n",
        "\n",
        "    for k in range(1, Nt):  # loop over the number of timesteps\n",
        "      c[:,k] = c[:,k-1] + dt * kappa * M @ c[:,k-1]\n",
        "      # Enforce the boundary conditions (no flux)\n",
        "      c[0, k] = c[1, k]\n",
        "      c[-1, k] = c[-2, k]\n",
        "\n",
        "    end_time = time.time()  # Print the elapsed time\n",
        "\n",
        "    print(f\"Explicit Euler method took {end_time - start_time:.2f} seconds\")\n",
        "\n",
        "    return c"
      ]
    },
    {
      "cell_type": "markdown",
      "metadata": {
        "id": "OX6RUI8J5wOR"
      },
      "source": [
        "Similarly, the function below timesteps the diffusion equation with the Crank-Nicolson method"
      ]
    },
    {
      "cell_type": "code",
      "execution_count": 113,
      "metadata": {
        "id": "KRXOP_KR5wOR"
      },
      "outputs": [],
      "source": [
        "def CN(x, t, kappa):\n",
        "# This function timesteps the diffusion equation with homogeneous Neumann boundary conditions\n",
        "# using the explicit Euler and second order finite difference methods\n",
        "    start_time = time.time()  # Start a timer\n",
        "\n",
        "    # Infer the uniform grid spacing:\n",
        "    dx = (x[-1] - x[0]) / (len(x) - 1); dt = (t[-1] - t[0]) / (len(t) - 1)\n",
        "\n",
        "    # Set the number of gridpoints in x and t\n",
        "    Nx = len(x); Nt = len(t)\n",
        "\n",
        "    # build a coefficient matrix, such that M*c is the discrete version of d/dx(c)\n",
        "    M = (np.diag(np.ones(Nx-1), -1) - 2*np.diag(np.ones(Nx), 0) + np.diag(np.ones(Nx-1), 1)) / dx**2\n",
        "\n",
        "    # Turn M into a sparse matrix to save memory and improve speed:\n",
        "    M = sp.csr_matrix(M)\n",
        "\n",
        "    A = sp.eye(Nx) - 0.5 * dt * kappa * M  # This matrix appears on the LHS in the C-N scheme\n",
        "    A_inv = spla.inv(A) # Calculate the inverse of A (this only needs to be done once)\n",
        "\n",
        "    # Create an empty sparse array to store the solution\n",
        "    c = np.zeros((Nx, Nt))\n",
        "\n",
        "    c[:, 0] = set_ics(x, kappa, 10)  # Set the initial condition\n",
        "\n",
        "    for k in range(1, Nt): # loop over the number of timesteps\n",
        "        c[:, k] = A_inv @ (c[:, k-1] + 0.5 * dt * kappa * (M @ c[:, k-1]))\n",
        "        # Enforce the boundary conditions\n",
        "        c[0, k] = c[1, k]\n",
        "        c[-1, k] = c[-2, k]\n",
        "\n",
        "    end_time = time.time()  # Print the elapsed time\n",
        "\n",
        "    print(f\"Crank-Nicolson method took {end_time - start_time:.2f} seconds\")\n",
        "\n",
        "    return c"
      ]
    },
    {
      "cell_type": "markdown",
      "metadata": {
        "id": "CFtuEsYm5wOR"
      },
      "source": [
        "Next, create a function to set the initial conditions. The exact solution to the unbounded diffusion equation with a delta function initial condition is:\n",
        "\n",
        "$$\\left(\\frac{1}{4\\pi\\kappa t}\\right)^{1/2}e^{-x^2/(4\\kappa t)}$$\n",
        "\n",
        "The function below sets the initial condition by evaluating the exact solution at a given time. Note that it is important that we don't evaluate the exact solution at `t_ic=0` since this will return a delta function which will be undefined on our finite grid. The value of `t_ic` is set within the `EE` and `CN` functions."
      ]
    },
    {
      "cell_type": "code",
      "execution_count": 114,
      "metadata": {
        "id": "Z7eqXuoY5wOR"
      },
      "outputs": [],
      "source": [
        "# Function to set the initial condition from the exact solution at time t_start\n",
        "def set_ics(x, kappa, t_ic):\n",
        "    c_ic = (4*np.pi*kappa*t_ic)**(-0.5)*np.exp(-x**2 / (4*kappa*t_ic))\n",
        "    # Enforce the boundary conditions\n",
        "    c_ic[0] = c_ic[1]\n",
        "    c_ic[-1] = c_ic[-2]\n",
        "    return c_ic\n"
      ]
    },
    {
      "cell_type": "markdown",
      "metadata": {
        "id": "4xs_Yhdb5wOS"
      },
      "source": [
        "Finally, define some parameters and the x and t vectors:"
      ]
    },
    {
      "cell_type": "code",
      "execution_count": 125,
      "metadata": {
        "id": "mHatFZjk5wOS"
      },
      "outputs": [],
      "source": [
        "# Defining parameters\n",
        "kappa = 0.001  # diffusivity\n",
        "\n",
        "# Timestepping parameters\n",
        "t_start = 0  # start time (note that this is not the same time used to evaluate the exact solution to set the ICs)\n",
        "t_end = 10  # end time\n",
        "Nt = 200  # number of timesteps\n",
        "\n",
        "# Size of the physical domain\n",
        "x_start = -1\n",
        "x_end = 1\n",
        "Nx = 200\n",
        "\n",
        "t = np.linspace(t_start, t_end, Nt)  # Create a vector of times\n",
        "x = np.linspace(x_start, x_end, Nx)  # Create a vector for x"
      ]
    },
    {
      "cell_type": "markdown",
      "metadata": {
        "id": "nate3yVV5wOS"
      },
      "source": [
        "Run each method once:"
      ]
    },
    {
      "cell_type": "code",
      "execution_count": 126,
      "metadata": {
        "id": "UmccFq585wOS"
      },
      "outputs": [
        {
          "name": "stdout",
          "output_type": "stream",
          "text": [
            "Explicit Euler method took 0.01 seconds\n",
            "Crank-Nicolson method took 0.03 seconds\n"
          ]
        }
      ],
      "source": [
        "# Run the simulations\n",
        "c_EE = EE(x, t, kappa) # explicit Euler\n",
        "c_CN = CN(x, t, kappa) # Crank-Nicolson"
      ]
    },
    {
      "cell_type": "markdown",
      "metadata": {},
      "source": [
        "Next, create a function to set the initial conditions. The exact solution to the unbounded diffusion equation with a delta function initial condition is:\n",
        "\n",
        "$$\\left(\\frac{1}{4\\pi\\kappa t}\\right)^{1/2}e^{-x^2/(4\\kappa t)}$$\n",
        "\n",
        "The function below sets the initial condition by evaluating the exact solution at a given time. Note that it is important that we don't evaluate the exact solution at `t_ic=0` since this will return a delta function which will be undefined on our finite grid. The value of `t_ic` is set within the `EE` and `CN` functions."
      ]
    },
    {
      "cell_type": "markdown",
      "metadata": {
        "id": "gh_SpkMY5wOS"
      },
      "source": [
        "and finally, plot the results side-by-side"
      ]
    },
    {
      "cell_type": "code",
      "execution_count": 127,
      "metadata": {
        "id": "A2bPKtdH5wOS"
      },
      "outputs": [
        {
          "name": "stdout",
          "output_type": "stream",
          "text": [
            "(200, 200)\n"
          ]
        },
        {
          "data": {
            "image/png": "[encoded data removed]",
            "text/plain": [
              "<Figure size 1400x600 with 3 Axes>"
            ]
          },
          "metadata": {},
          "output_type": "display_data"
        }
      ],
      "source": [
        "def explicit(x, t):\n",
        "    return np.sqrt(1 / (4*np.pi*kappa*t))* np.exp((-(x**2)) / (4*kappa*t))\n",
        "\n",
        "# Plot the results\n",
        "plt.figure(figsize=(14, 6))\n",
        "\n",
        "plt.subplot(1, 3, 1)\n",
        "plt.pcolormesh(x, t, c_EE.T, shading='auto')\n",
        "plt.xlabel('x')\n",
        "plt.ylabel('t')\n",
        "plt.title('Explicit Euler')\n",
        "\n",
        "plt.subplot(1, 3, 2)\n",
        "plt.pcolormesh(x, t, c_CN.T, shading='auto')\n",
        "plt.xlabel('x')\n",
        "plt.ylabel('t')\n",
        "plt.title('Crank-Nicolson')\n",
        "\n",
        "plt.subplot(1, 3, 3)\n",
        "plt.plot(x, c_EE[:, -1])\n",
        "plt.plot(x, c_EE[:, -1])\n",
        "plt.plot(x, explicit(x, 20))\n",
        "#plt.plot(x, explicit(x, 1))\n",
        "plt.title('Final Values')\n",
        "print(np.shape(c_EE))\n",
        "plt.tight_layout()\n",
        "plt.show()"
      ]
    },
    {
      "cell_type": "markdown",
      "metadata": {
        "id": "ttgIGnFH5wOT"
      },
      "source": [
        "## 2. Student investigation"
      ]
    },
    {
      "cell_type": "markdown",
      "metadata": {
        "id": "YTcN74Wy5wOT"
      },
      "source": [
        "### 2.1 Stability\n",
        "<a id='section2pt1'></a>\n",
        "The explicit Euler and Crank-Nicolson methods have very different stability properties. To explore this, try increasing the timestep (reduce the number of timesteps) and/or increase the diffusivity ($\\kappa$) and see how each method responds. How does the stability depend on `Nx`? Discuss your findings below (~1 paragraph)"
      ]
    },
    {
      "cell_type": "markdown",
      "metadata": {
        "id": "PRYwUBJx5wOT"
      },
      "source": [
        "Nx changes the resolution of the "
      ]
    },
    {
      "cell_type": "markdown",
      "metadata": {
        "id": "iLIfQc-C5wOT"
      },
      "source": [
        "### 2.2 Accuracy\n",
        "<a id='section2pt2'></a>\n",
        "Next, we will examine the accuracy of the numerical methods used above. In order to do this, it is useful to compare our numerical solutions with the exact solution to the diffusion equation. Below, write code to plot the exact solution and the numerical solution using explicit Euler and Crank-Nicolson at the final time ($t=10$). Note that you can use the exact solution to the diffusion equation in an unbounded domain in $x$ and keep in mind that the exact solution and numerical solutions will differ for later times when boundary effects are felt."
      ]
    },
    {
      "cell_type": "code",
      "execution_count": 128,
      "metadata": {
        "id": "mCLwo0ky5wOT"
      },
      "outputs": [],
      "source": [
        "# Add code to plot exact and numerical solutions"
      ]
    },
    {
      "cell_type": "markdown",
      "metadata": {
        "id": "Tr9KX8-O5wOT"
      },
      "source": [
        "Now, define a measure of the error of each numerical method compared to the exact solution (there is no single correct way to do this). Plot the error of both methods as a function of the grid spacing $\\Delta x$. Then, similarly plot the error as a function of the timestep, $\\Delta t$."
      ]
    },
    {
      "cell_type": "markdown",
      "metadata": {
        "id": "guaq3Hds5wOT"
      },
      "source": [
        "DISCUSS DEFINITION OF ERROR"
      ]
    },
    {
      "cell_type": "code",
      "execution_count": 129,
      "metadata": {
        "id": "zRV2oWgA5wOT"
      },
      "outputs": [],
      "source": [
        "# Add code to plot error here\n"
      ]
    },
    {
      "cell_type": "markdown",
      "metadata": {
        "id": "FIR52qFV5wOT"
      },
      "source": [
        "Finally, select a given error tolerance and explore whether explicit Euler or Crank-Nicoslon is more efficient (faster) at generating solutions with error less than your error tolerance. Discuss your conclusion and add supporting figures if necessary."
      ]
    },
    {
      "cell_type": "markdown",
      "metadata": {
        "id": "yGbdjcEg5wOT"
      },
      "source": [
        "INSERT DISCUSSION OF ERROR HERE (~1 paragraph).  OPTIONALLY ADD PLOTS BY INSERTING A CODE BLOCK BELOW."
      ]
    },
    {
      "cell_type": "markdown",
      "metadata": {
        "id": "6lje-7oK5wOT"
      },
      "source": [
        "Now, move to Project1_dedalus.ipynb which will introduce Dedalus and spectral methods."
      ]
    },
    {
      "cell_type": "markdown",
      "metadata": {
        "id": "mLdwDZ_HVA6G"
      },
      "source": [
        "### 3. Optional further investigations\n",
        "\n",
        "The application of the boundary conditions for the Crank-Nicolson method isn't quite right in the script above (but the boundary conditions aren't very important in this example). Account for the boundary conditions by modifying the coefficient matrix. This ensures that the boundary conditions are applied to the implicit and explicit terms involved in the Crank-Nicolson update. How would you handle fixed value (Dirichlet) and fixed gradient (Neumann) boundary conditions?"
      ]
    }
  ],
  "metadata": {
    "colab": {
      "provenance": []
    },
    "kernelspec": {
      "display_name": ".venv",
      "language": "python",
      "name": "python3"
    },
    "language_info": {
      "codemirror_mode": {
        "name": "ipython",
        "version": 3
      },
      "file_extension": ".py",
      "mimetype": "text/x-python",
      "name": "python",
      "nbconvert_exporter": "python",
      "pygments_lexer": "ipython3",
      "version": "3.11.2"
    }
  },
  "nbformat": 4,
  "nbformat_minor": 0
}
